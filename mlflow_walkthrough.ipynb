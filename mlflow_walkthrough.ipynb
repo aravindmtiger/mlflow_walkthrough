{
 "cells": [
  {
   "cell_type": "markdown",
   "id": "3a9ade7d-5bf9-4d26-875d-b8fc0ca80dea",
   "metadata": {},
   "source": [
    "# Hands -on example"
   ]
  },
  {
   "cell_type": "code",
   "execution_count": 2,
   "id": "cea41fa4-e272-436b-84a0-01dc937d7f46",
   "metadata": {},
   "outputs": [],
   "source": [
    "import os\n",
    "import warnings\n",
    "import sys\n",
    "import pandas as pd\n",
    "import numpy as np\n",
    "from sklearn.metrics import mean_absolute_error,mean_squared_error,r2_score\n",
    "from sklearn.model_selection import train_test_split\n",
    "from sklearn.linear_model import ElasticNet\n",
    "import mlflow\n",
    "import mlflow.sklearn"
   ]
  },
  {
   "cell_type": "markdown",
   "id": "8f818874-2a52-495c-b555-55b776e0d081",
   "metadata": {},
   "source": [
    "# The data"
   ]
  },
  {
   "cell_type": "markdown",
   "id": "3e5475e2-9445-44be-afd0-e1cf23bbe0ce",
   "metadata": {},
   "source": [
    "Wine quality dataset"
   ]
  },
  {
   "cell_type": "code",
   "execution_count": 3,
   "id": "143f7768-15cc-4f67-819e-ff9de5f6f089",
   "metadata": {},
   "outputs": [
    {
     "data": {
      "text/html": [
       "<div>\n",
       "<style scoped>\n",
       "    .dataframe tbody tr th:only-of-type {\n",
       "        vertical-align: middle;\n",
       "    }\n",
       "\n",
       "    .dataframe tbody tr th {\n",
       "        vertical-align: top;\n",
       "    }\n",
       "\n",
       "    .dataframe thead th {\n",
       "        text-align: right;\n",
       "    }\n",
       "</style>\n",
       "<table border=\"1\" class=\"dataframe\">\n",
       "  <thead>\n",
       "    <tr style=\"text-align: right;\">\n",
       "      <th></th>\n",
       "      <th>fixed acidity</th>\n",
       "      <th>volatile acidity</th>\n",
       "      <th>citric acid</th>\n",
       "      <th>residual sugar</th>\n",
       "      <th>chlorides</th>\n",
       "      <th>free sulfur dioxide</th>\n",
       "      <th>total sulfur dioxide</th>\n",
       "      <th>density</th>\n",
       "      <th>pH</th>\n",
       "      <th>sulphates</th>\n",
       "      <th>alcohol</th>\n",
       "      <th>quality</th>\n",
       "    </tr>\n",
       "  </thead>\n",
       "  <tbody>\n",
       "    <tr>\n",
       "      <th>1258</th>\n",
       "      <td>6.8</td>\n",
       "      <td>0.64</td>\n",
       "      <td>0.0</td>\n",
       "      <td>2.7</td>\n",
       "      <td>0.123</td>\n",
       "      <td>15.0</td>\n",
       "      <td>33.0</td>\n",
       "      <td>0.99538</td>\n",
       "      <td>3.44</td>\n",
       "      <td>0.63</td>\n",
       "      <td>11.3</td>\n",
       "      <td>6</td>\n",
       "    </tr>\n",
       "  </tbody>\n",
       "</table>\n",
       "</div>"
      ],
      "text/plain": [
       "      fixed acidity  volatile acidity  citric acid  residual sugar  chlorides  \\\n",
       "1258            6.8              0.64          0.0             2.7      0.123   \n",
       "\n",
       "      free sulfur dioxide  total sulfur dioxide  density    pH  sulphates  \\\n",
       "1258                 15.0                  33.0  0.99538  3.44       0.63   \n",
       "\n",
       "      alcohol  quality  \n",
       "1258     11.3        6  "
      ]
     },
     "execution_count": 3,
     "metadata": {},
     "output_type": "execute_result"
    }
   ],
   "source": [
    "data=pd.read_csv('wine+quality/winequality-red.csv',sep=';')\n",
    "data.sample()"
   ]
  },
  {
   "cell_type": "markdown",
   "id": "f67ee373-2778-4576-9198-4aa974734b84",
   "metadata": {},
   "source": [
    "# Tracking Experiments"
   ]
  },
  {
   "cell_type": "markdown",
   "id": "2e8664da-2ad4-47b5-8f22-5a84c3f5ea53",
   "metadata": {},
   "source": [
    "MLflow supports 2 types of backend stores : file store and database based store\n"
   ]
  },
  {
   "cell_type": "code",
   "execution_count": 4,
   "id": "825e577d-090a-4c2b-a277-09aa8c888457",
   "metadata": {},
   "outputs": [],
   "source": [
    "#mlflow server --backend-store-uri mlruns/ --default-artifact-root mlruns/ --host 0.0.0.0 --port 5000\n",
    "remote_server_uri=\"http://127.0.0.1:8000\" # set to your server uri\n",
    "mlflow.set_tracking_uri(uri=\"http://127.0.0.1:8000\") # or set the MLFLOW_TRACKING_URI in the env"
   ]
  },
  {
   "cell_type": "code",
   "execution_count": 4,
   "id": "a928255f-8284-4c2d-8a30-55ff71e247a7",
   "metadata": {},
   "outputs": [
    {
     "data": {
      "text/plain": [
       "'http://127.0.0.1:8000'"
      ]
     },
     "execution_count": 4,
     "metadata": {},
     "output_type": "execute_result"
    }
   ],
   "source": [
    "# mlflow.tracking.get_tracking_uri()\n"
   ]
  },
  {
   "cell_type": "code",
   "execution_count": 11,
   "id": "c0047eee-115e-4661-aea5-a93389b24f1e",
   "metadata": {},
   "outputs": [
    {
     "data": {
      "text/plain": [
       "'521025943128782150'"
      ]
     },
     "execution_count": 11,
     "metadata": {},
     "output_type": "execute_result"
    }
   ],
   "source": [
    "mlflow.create_experiment('ElasticNet_wine')"
   ]
  },
  {
   "cell_type": "code",
   "execution_count": 5,
   "id": "02a1cf0c-2eea-4d70-ade7-09d733f0a20c",
   "metadata": {},
   "outputs": [
    {
     "data": {
      "text/plain": [
       "<Experiment: artifact_location='file:///C:/Users/aravind.raman/Downloads/mlflow_walkthrough/mlruns/634715942043803316', creation_time=1715706350593, experiment_id='634715942043803316', last_update_time=1715706350593, lifecycle_stage='active', name='ElasticNet_wine', tags={}>"
      ]
     },
     "execution_count": 5,
     "metadata": {},
     "output_type": "execute_result"
    }
   ],
   "source": [
    "mlflow.set_experiment('ElasticNet_wine')"
   ]
  },
  {
   "cell_type": "code",
   "execution_count": 15,
   "id": "ae1442b7-e698-4d60-b321-8e7fcba8eaa9",
   "metadata": {},
   "outputs": [],
   "source": [
    "mlflow.start_run(experiment_id=)"
   ]
  },
  {
   "cell_type": "markdown",
   "id": "c61c67f9-908d-405e-b7ba-76b8e4f6f4e1",
   "metadata": {},
   "source": [
    "# What do we track?\n",
    "1.Code Version : Git commit hash used for the run\n",
    "\n",
    "2.Start & End Time: Start and end time of the run\n",
    "\n",
    "3.Source: WHat code ran?\n",
    "\n",
    "4.Parameters: Key-value input parameters\n",
    "\n",
    "5.Metrics: Key-value metrics, where the value is numeric (can be updated over the run)\n",
    "\n",
    "6.Artifacts: Output files in any format."
   ]
  },
  {
   "cell_type": "code",
   "execution_count": 15,
   "id": "2db102e0-343a-43eb-a047-d8600756540e",
   "metadata": {},
   "outputs": [],
   "source": [
    "def eval_metrics(actual,pred):\n",
    "    # compute relevant metrics\n",
    "    rmse=np.sqrt(mean_squared_error(actual,pred))\n",
    "    mae=mean_absolute_error(actual,pred)\n",
    "    r2=r2_score(actual,pred)\n",
    "    return rmse,mae,r2\n",
    "def load_data(data_path):\n",
    "    data=pd.read_csv(data_path,sep=';')\n",
    "    train,test=train_test_split(data)\n",
    "    train_x=train.drop(['quality'],axis=1)\n",
    "    test_x=test.drop(['quality'],axis=1)\n",
    "    train_y=train[['quality']]\n",
    "    test_y=test[['quality']]\n",
    "    return train_x,train_y,test_x,test_y\n",
    "def train (alpha=0.5 ,l1_ratio=0.5):\n",
    "    warnings.filterwarnings('ignore')\n",
    "    np.random.seed(42)\n",
    "    data_path='wine+quality/winequality-red.csv'\n",
    "    train_x,train_y,test_x,test_y=load_data(data_path)\n",
    "    # Useful while running multiple models like Grid search CV\n",
    "    with mlflow.start_run():\n",
    "        lr=ElasticNet(alpha=alpha,l1_ratio=l1_ratio,random_state=42)\n",
    "        lr.fit(train_x,train_y)\n",
    "        predicted_qualities=lr.predict(test_x)\n",
    "        (rmse,mae,r2)=eval_metrics(test_y,predicted_qualities)\n",
    "        print(f'ElasticNet model alpha={alpha} and l1_ratio={l1_ratio}')\n",
    "        print(f'RMSE: {rmse}')\n",
    "        print(f'MAE: {mae}')\n",
    "        print(f'R2: {r2}')\n",
    "\n",
    "        mlflow.log_param(key='alpha',value=alpha)\n",
    "        mlflow.log_param(key='l1_ratio',value=l1_ratio)\n",
    "        mlflow.log_metric(key='rmse',value=rmse)\n",
    "        mlflow.log_metrics({'mae':mae,'r2':r2})\n",
    "        mlflow.log_artifact(data_path)\n",
    "        print(f'Save to {mlflow.get_artifact_uri()}')\n",
    "        mlflow.sklearn.log_model(lr,'model')\n",
    "    "
   ]
  },
  {
   "cell_type": "code",
   "execution_count": null,
   "id": "bb8fcbd7-8619-42fa-9eb2-a7c87e99ffa9",
   "metadata": {},
   "outputs": [],
   "source": [
    "# could also do\n",
    "# with mlflow.start_run():\n",
    "#     for epoch in range(0,3):\n",
    "#         mlflow.log_metric(key=\"quality\",value=2*epoch,step=epoch)\n",
    "        "
   ]
  },
  {
   "cell_type": "code",
   "execution_count": 19,
   "id": "9ad85cfc-5d37-40f1-8736-b6c4a33b5382",
   "metadata": {},
   "outputs": [
    {
     "name": "stdout",
     "output_type": "stream",
     "text": [
      "ElasticNet model alpha=0.3 and l1_ratio=0.3\n",
      "RMSE: 0.7036020488067385\n",
      "MAE: 0.5643396524855138\n",
      "R2: 0.1997076545227946\n",
      "Save to mlflow-artifacts:/521025943128782150/d624741554aa4a889a3ce61672e6a617/artifacts\n"
     ]
    }
   ],
   "source": [
    "train(0.3,0.3)"
   ]
  },
  {
   "cell_type": "markdown",
   "id": "6af9764f-b06d-4b8b-8430-5133069d8fc2",
   "metadata": {},
   "source": [
    "# 1.1 Comparing runs"
   ]
  },
  {
   "cell_type": "markdown",
   "id": "2260054b-6894-4255-8a4a-672172292655",
   "metadata": {},
   "source": [
    "Run mlflow ui in a terminal or http//127.0.0.0.1:5000 to view the experiment logs and visualise and compare different runs"
   ]
  },
  {
   "cell_type": "markdown",
   "id": "db4be568-03b2-47c8-93be-e40033907a10",
   "metadata": {},
   "source": [
    "# Packaging the experiment as a MLFlow project as conda env"
   ]
  },
  {
   "cell_type": "markdown",
   "id": "c27e6560-9c4d-4219-936b-131afb8962bc",
   "metadata": {},
   "source": [
    "Specify the entrypoint for this project by creating a MLproject file and adding an conda environment with a conda.yaml. You can copy the yaml file from the experiment logs.\n",
    "\n",
    "To run this project, invoke mlflow run . -P alpha=0.42. After running this command, MLflow runs your training code in a new Conda environment with the dependencies specified in conda.yaml."
   ]
  },
  {
   "cell_type": "markdown",
   "id": "fd7e7b75-bc6f-423e-af98-b4ecea7a6c8d",
   "metadata": {},
   "source": [
    "# Deploy the model"
   ]
  },
  {
   "cell_type": "markdown",
   "id": "90e00cf1-2b41-4f51-a360-00d70e8c71fe",
   "metadata": {},
   "source": [
    "3. Deploy the model\n",
    "Deploy the model locally by running\n",
    "\n",
    "mlflow models serve -m mlflow-artifacts:/0/7f57b33eb7ba4fe194bc1a5a186428c5/artifacts/model/ -h 127.0.0.1 -p 8000\n",
    "\n",
    "Test the endpoint:\n",
    "\n",
    "curl -X POST -H \"Content-Type:application/json; format=pandas-split\" --data '{\"columns\":[\"alcohol\", \"chlorides\", \"citric acid\", \"density\", \"fixed acidity\", \"free sulfur dioxide\", \"pH\", \"residual sugar\", \"sulphates\", \"total sulfur dioxide\", \"volatile acidity\"],\"data\":[[12.8, 0.029, 0.48, 0.98, 6.2, 29, 3.33, 1.2, 0.39, 75, 0.66]]}' http://0.0.0.0:1234/invocations\n",
    "\n",
    "You can also simply build a docker image from your model\n",
    "\n",
    "mlflow models build-docker -m mlruns/1/d671f37a9c7f478989e67eb4ff4d1dac/artifacts/model/ -n elastic_net_wine\n",
    "\n",
    "and run the container with\n",
    "\n",
    "docker run -p 8080:8080 elastic_net_wine.\n",
    "\n",
    "Or you can directly deploy to AWS sagemaker or Microsoft Azure ML."
   ]
  },
  {
   "cell_type": "code",
   "execution_count": 2,
   "id": "b693b6fc-020d-4fbe-b73e-299716cf044d",
   "metadata": {},
   "outputs": [
    {
     "name": "stdout",
     "output_type": "stream",
     "text": [
      "[<Experiment: artifact_location='file:///C:/Users/aravind.raman/Downloads/mlflow_walkthrough/mlruns/634715942043803316', creation_time=1715706350593, experiment_id='634715942043803316', last_update_time=1715706350593, lifecycle_stage='active', name='ElasticNet_wine', tags={}>, <Experiment: artifact_location='mlflow-artifacts:/0', creation_time=1715243610394, experiment_id='0', last_update_time=1715243610394, lifecycle_stage='active', name='Default', tags={}>]\n"
     ]
    }
   ],
   "source": [
    "from datetime import datetime\n",
    "from mlflow.tracking import MlflowClient\n",
    "\n",
    "client = MlflowClient()\n",
    "client.search_experiments()\n",
    "experiments = client.search_experiments() # returns a list of mlflow.entities.Experiment\n",
    "print(experiments)"
   ]
  },
  {
   "cell_type": "code",
   "execution_count": 3,
   "id": "ede1b4e6-1f24-40ef-8c7a-21a2c1e8765b",
   "metadata": {},
   "outputs": [
    {
     "name": "stdout",
     "output_type": "stream",
     "text": [
      "<Run: data=<RunData: metrics={'mae': 0.5722846717246248,\n",
      " 'r2': 0.21978513651550247,\n",
      " 'rmse': 0.7420620899060748}, params={'alpha': '0.42', 'l1_ratio': '0.1'}, tags={'mlflow.gitRepoURL': 'https://github.com/aravindmtiger/mlflow_walkthrough.git',\n",
      " 'mlflow.log-model.history': '[{\"run_id\": \"7f57b33eb7ba4fe194bc1a5a186428c5\", '\n",
      "                             '\"artifact_path\": \"model\", \"utc_time_created\": '\n",
      "                             '\"2024-05-15 07:14:27.693917\", \"flavors\": '\n",
      "                             '{\"python_function\": {\"model_path\": \"model.pkl\", '\n",
      "                             '\"loader_module\": \"mlflow.sklearn\", '\n",
      "                             '\"python_version\": \"3.6.8\", \"env\": \"conda.yaml\"}, '\n",
      "                             '\"sklearn\": {\"pickled_model\": \"model.pkl\", '\n",
      "                             '\"sklearn_version\": \"0.21.3\", '\n",
      "                             '\"serialization_format\": \"cloudpickle\"}}, '\n",
      "                             '\"model_uuid\": '\n",
      "                             '\"b030ade6592c4cd4ba84d970e398dc8a\"}]',\n",
      " 'mlflow.project.backend': 'local',\n",
      " 'mlflow.project.entryPoint': 'main',\n",
      " 'mlflow.project.env': 'conda',\n",
      " 'mlflow.runName': 'adorable-cub-748',\n",
      " 'mlflow.source.git.commit': '90c11987b57540d31fadcd2c24a75c7b4dfc23d9',\n",
      " 'mlflow.source.git.repoURL': 'https://github.com/aravindmtiger/mlflow_walkthrough.git',\n",
      " 'mlflow.source.name': 'file://C:\\\\Users\\\\aravind.raman\\\\Downloads\\\\mlflow_walkthrough',\n",
      " 'mlflow.source.type': 'PROJECT',\n",
      " 'mlflow.user': 'aravind.raman'}>, info=<RunInfo: artifact_uri='file:///C:/Users/aravind.raman/Downloads/mlflow_walkthrough/mlruns/634715942043803316/7f57b33eb7ba4fe194bc1a5a186428c5/artifacts', end_time=1715757272636, experiment_id='634715942043803316', lifecycle_stage='active', run_id='7f57b33eb7ba4fe194bc1a5a186428c5', run_name='adorable-cub-748', run_uuid='7f57b33eb7ba4fe194bc1a5a186428c5', start_time=1715757257586, status='FINISHED', user_id='aravind.raman'>, inputs=<RunInputs: dataset_inputs=[]>>\n"
     ]
    }
   ],
   "source": [
    "# get the run\n",
    "_run = client.get_run(run_id=\"7f57b33eb7ba4fe194bc1a5a186428c5\")\n",
    "print(_run)"
   ]
  },
  {
   "cell_type": "code",
   "execution_count": 4,
   "id": "ba28f3e7-c409-4bb6-ac61-6711bc83dd36",
   "metadata": {},
   "outputs": [],
   "source": [
    "# add a tag to the run\n",
    "dt = datetime.now().strftime(\"%d-%m-%Y (%H:%M:%S.%f)\")\n",
    "client.set_tag(_run.info.run_id, \"deployed\", dt)"
   ]
  }
 ],
 "metadata": {
  "kernelspec": {
   "display_name": "Python 3 (ipykernel)",
   "language": "python",
   "name": "python3"
  },
  "language_info": {
   "codemirror_mode": {
    "name": "ipython",
    "version": 3
   },
   "file_extension": ".py",
   "mimetype": "text/x-python",
   "name": "python",
   "nbconvert_exporter": "python",
   "pygments_lexer": "ipython3",
   "version": "3.8.19"
  }
 },
 "nbformat": 4,
 "nbformat_minor": 5
}
